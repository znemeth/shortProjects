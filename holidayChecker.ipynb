{
 "cells": [
  {
   "cell_type": "markdown",
   "metadata": {},
   "source": [
    "#  Function for holiday checking in Italy"
   ]
  },
  {
   "cell_type": "markdown",
   "metadata": {},
   "source": [
    "### import modules"
   ]
  },
  {
   "cell_type": "code",
   "execution_count": null,
   "metadata": {},
   "outputs": [],
   "source": [
    "import os\n",
    "import urllib.request\n",
    "import datetime as dt"
   ]
  },
  {
   "cell_type": "markdown",
   "metadata": {},
   "source": [
    "### user input for a day in the following format: YYYYMMDD, e.g. 20200710"
   ]
  },
  {
   "cell_type": "code",
   "execution_count": null,
   "metadata": {},
   "outputs": [],
   "source": [
    "giorno = input(\"Data: \")"
   ]
  },
  {
   "cell_type": "markdown",
   "metadata": {},
   "source": [
    "### function for determining whether a day is workday or holiday in Italy"
   ]
  },
  {
   "cell_type": "code",
   "execution_count": null,
   "metadata": {},
   "outputs": [],
   "source": [
    "def eFestivo(giorno):\n",
    "    \n",
    "    #basic validation of user input\n",
    "    for char in range(len(giorno)):\n",
    "        if int(giorno[char]) in range(0,10):\n",
    "            pass\n",
    "        else:\n",
    "            print(\"Please check your input!\")\n",
    "            break\n",
    "    \n",
    "    #slicing and typecasting the date\n",
    "    anno = int(giorno[:4], base = 10)\n",
    "    mese = int(giorno[4:6], base = 10)\n",
    "    giorno = int(giorno[6:], base = 10)\n",
    "\n",
    "    #url retrieving the file containing Italian holidays\n",
    "    url = \"https://giorni-festivi.eu/ical/italia/\" + str(anno) + \"/\"\n",
    "    urllib.request.urlopen(url)\n",
    "    urllib.request.urlretrieve(url, \"data\" + str(anno) + \".ics\")\n",
    "\n",
    "    #renaming the source file\n",
    "    localeFile = \"data\" + str(anno) + \".ics\"\n",
    "\n",
    "    #get the dates of holidays from the file\n",
    "    with open(localeFile, \"r\") as source:\n",
    "        id = []\n",
    "        for ln in source:\n",
    "            if ln.startswith(\"DTSTART;VALUE=DATE:\"):\n",
    "                id.append(dt.date(int(ln[19:23]), int(ln[23:25], base = 10), int(ln[25:], base = 10)))\n",
    "\n",
    "    #setting python format of the date, and determining the order number of the day in a week\n",
    "    cal = dt.date(anno, mese, giorno)\n",
    "    giornoDiSettimana = dt.datetime.isoweekday(cal)\n",
    "\n",
    "    #checking whether the day is workday or holiday\n",
    "    if cal in id:\n",
    "        print(str(cal) + \" è un giorno festivo in Italia.\")\n",
    "    else:\n",
    "        if giornoDiSettimana in range(1,6):\n",
    "            print(str(cal) + \"è un giorno lavorativo in Italia.\")\n",
    "        else:\n",
    "            print(str(cal) + \" è un giorno festivo in Italia.\")\n",
    "\n",
    "    # delete source file from local folder\n",
    "    os.remove(localeFile)\n",
    "    \n",
    "# calling the function\n",
    "eFestivo(giorno)"
   ]
  }
 ],
 "metadata": {
  "kernelspec": {
   "display_name": "Python 3",
   "language": "python",
   "name": "python3"
  },
  "language_info": {
   "codemirror_mode": {
    "name": "ipython",
    "version": 3
   },
   "file_extension": ".py",
   "mimetype": "text/x-python",
   "name": "python",
   "nbconvert_exporter": "python",
   "pygments_lexer": "ipython3",
   "version": "3.7.3"
  }
 },
 "nbformat": 4,
 "nbformat_minor": 2
}
